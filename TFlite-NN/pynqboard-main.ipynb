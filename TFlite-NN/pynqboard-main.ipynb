{
 "cells": [
  {
   "cell_type": "code",
   "execution_count": null,
   "metadata": {
    "collapsed": true
   },
   "outputs": [],
   "source": [
    "import tensorflow as tf\n",
    "\n",
    "loaded = tf.saved_model.load('TFlite-NN/models/test')\n",
    "infer = loaded.signatures['serving_default']\n",
    "infer(feat_tens)['dense_2'].numpy()[0]\n",
    "\n",
    "# things to do:\n",
    "#   make block diagram of code\n",
    "#   get tf lite working on board\n",
    "#   make ffe functions tf concrete functions\n",
    "#       this is so we can boil it all down to a tf lite model\n",
    "#   refine code flow (hyperparameters, trainnet: save/creating networks, preparedata: less wall of code)\n",
    "#   understand label processing better so it can be save in tflite models\n",
    "#"
   ]
  }
 ],
 "metadata": {
  "kernelspec": {
   "display_name": "Python 3",
   "language": "python",
   "name": "python3"
  },
  "language_info": {
   "codemirror_mode": {
    "name": "ipython",
    "version": 2
   },
   "file_extension": ".py",
   "mimetype": "text/x-python",
   "name": "python",
   "nbconvert_exporter": "python",
   "pygments_lexer": "ipython2",
   "version": "2.7.6"
  }
 },
 "nbformat": 4,
 "nbformat_minor": 0
}