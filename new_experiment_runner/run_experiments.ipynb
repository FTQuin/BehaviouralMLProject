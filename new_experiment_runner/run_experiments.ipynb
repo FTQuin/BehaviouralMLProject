{
 "cells": [
  {
   "cell_type": "markdown",
   "metadata": {
    "pycharm": {
     "name": "#%% md\n"
    }
   },
   "source": [
    "# Welcome"
   ]
  },
  {
   "cell_type": "markdown",
   "metadata": {},
   "source": [
    "## IMPORT REQUIRED DEPENDENCIES"
   ]
  },
  {
   "cell_type": "code",
   "execution_count": 35,
   "metadata": {
    "pycharm": {
     "name": "#%%\n"
    }
   },
   "outputs": [],
   "source": [
    "import os\n",
    "from datetime import datetime\n",
    "\n",
    "import tensorflow as tf\n",
    "\n",
    "import models_config as models\n",
    "import datasets_config as datasets\n",
    "import feature_extractors_config as feature_extractors"
   ]
  },
  {
   "cell_type": "code",
   "execution_count": 36,
   "metadata": {
    "pycharm": {
     "name": "#%%\n"
    }
   },
   "outputs": [],
   "source": [
    "from absl import logging\n",
    "logging.set_verbosity(logging.ERROR)"
   ]
  },
  {
   "cell_type": "markdown",
   "metadata": {
    "pycharm": {
     "name": "#%% md\n"
    }
   },
   "source": [
    "## Set Hyper Parameters"
   ]
  },
  {
   "cell_type": "markdown",
   "metadata": {
    "pycharm": {
     "name": "#%% md\n"
    }
   },
   "source": [
    "### EXPERIMENT PARAMETERS"
   ]
  },
  {
   "cell_type": "code",
   "execution_count": 37,
   "metadata": {
    "pycharm": {
     "name": "#%%\n"
    }
   },
   "outputs": [],
   "source": [
    "EXPERIMENT_NAME = 'mobilenet_experiments_1'\n",
    "EXPERIMENT_PARAMS = [\n",
    "    {'name': 'gru',\n",
    "     'batch_size': 64,\n",
    "     'epochs': 1,\n",
    "     },\n",
    "]"
   ]
  },
  {
   "cell_type": "markdown",
   "metadata": {
    "pycharm": {
     "name": "#%% md\n"
    }
   },
   "source": [
    "### DATA PARAMETERS"
   ]
  },
  {
   "cell_type": "code",
   "execution_count": 38,
   "metadata": {
    "pycharm": {
     "name": "#%%\n"
    }
   },
   "outputs": [],
   "source": [
    "DATASETS_PARAMS = [\n",
    "    {'dataset_path': './datasets/UCF-3',\n",
    "     'seq_len': 50,\n",
    "     'train_test_split': .8\n",
    "     },\n",
    "]"
   ]
  },
  {
   "cell_type": "markdown",
   "metadata": {
    "pycharm": {
     "name": "#%% md\n"
    }
   },
   "source": [
    "### EXTRACTOR PARAMETERS"
   ]
  },
  {
   "cell_type": "code",
   "execution_count": 39,
   "metadata": {
    "pycharm": {
     "name": "#%%\n"
    }
   },
   "outputs": [],
   "source": [
    "EXTRACTOR_PARAMS = [\n",
    "    (feature_extractors.MobileNetV2Extractor, {}),\n",
    "]"
   ]
  },
  {
   "cell_type": "markdown",
   "metadata": {
    "pycharm": {
     "name": "#%% md\n"
    }
   },
   "source": [
    "### MODEL PARAMETERS"
   ]
  },
  {
   "cell_type": "code",
   "execution_count": 40,
   "metadata": {
    "pycharm": {
     "name": "#%%\n"
    }
   },
   "outputs": [],
   "source": [
    "MODEL_PARAMS = [\n",
    "    (models.GRU.gru2, {'activation_function': 'relu',\n",
    "                       'loss_function': 'sparse_categorical_crossentropy',\n",
    "                       'optimizer': 'adam',\n",
    "                       }),\n",
    "]"
   ]
  },
  {
   "cell_type": "markdown",
   "metadata": {
    "pycharm": {
     "name": "#%% md\n"
    }
   },
   "source": [
    " ## Create train function"
   ]
  },
  {
   "cell_type": "code",
   "execution_count": 41,
   "metadata": {
    "pycharm": {
     "name": "#%%\n"
    }
   },
   "outputs": [],
   "source": [
    "# TRAIN MODEL AND SAVE TO saved_experiments DIRECTORY\n",
    "def train_model(model, dataset, experiment_params):\n",
    "    experiment_dir = os.path.join(f'../saved_experiments/{EXPERIMENT_NAME}')\n",
    "\n",
    "    log_dir = os.path.join(experiment_dir, 'logs/fit/',\n",
    "                           experiment_params['name'] + '_' + datetime.now().strftime(\"%Y%m%d-%H%M%S\"))\n",
    "\n",
    "    save_model_callback = tf.keras.callbacks.ModelCheckpoint(os.path.join(experiment_dir, experiment_params['name']),\n",
    "                                                             monitor='val_loss',\n",
    "                                                             verbose=1,\n",
    "                                                             save_best_only=True,\n",
    "                                                             options=None,)\n",
    "\n",
    "    tensorboard_callback = tf.keras.callbacks.TensorBoard(log_dir=log_dir,\n",
    "                                                          histogram_freq=1,\n",
    "                                                          update_freq='epoch',)\n",
    "\n",
    "    out = model.fit(\n",
    "        dataset.train_dataset,\n",
    "        validation_data=dataset.validation_dataset,\n",
    "        epochs=experiment_params['epochs'],\n",
    "        batch_size=experiment_params['batch_size'],\n",
    "        callbacks=[tensorboard_callback, save_model_callback],\n",
    "    )\n",
    "    return out"
   ]
  },
  {
   "cell_type": "markdown",
   "metadata": {
    "pycharm": {
     "name": "#%% md\n"
    }
   },
   "source": []
  },
  {
   "cell_type": "code",
   "execution_count": 42,
   "metadata": {
    "pycharm": {
     "name": "#%%\n"
    }
   },
   "outputs": [
    {
     "name": "stdout",
     "output_type": "stream",
     "text": [
      "The tensorboard extension is already loaded. To reload it, use:\n",
      "  %reload_ext tensorboard\n"
     ]
    },
    {
     "data": {
      "text/plain": "Launching TensorBoard..."
     },
     "metadata": {},
     "output_type": "display_data"
    }
   ],
   "source": [
    "from tensorboard import notebook\n",
    "log_dir = os.path.join(f'../saved_experiments/{EXPERIMENT_NAME}/logs')\n",
    "%load_ext tensorboard\n",
    "%tensorboard --logdir {log_dir}"
   ]
  },
  {
   "cell_type": "code",
   "execution_count": 43,
   "metadata": {
    "pycharm": {
     "name": "#%%\n"
    }
   },
   "outputs": [
    {
     "name": "stdout",
     "output_type": "stream",
     "text": [
      "WARNING:tensorflow:`input_shape` is undefined or non-square, or `rows` is not in [96, 128, 160, 192, 224]. Weights for input shape (224, 224) will be loaded as the default.\n"
     ]
    },
    {
     "name": "stderr",
     "output_type": "stream",
     "text": [
      "WARNING:tensorflow:`input_shape` is undefined or non-square, or `rows` is not in [96, 128, 160, 192, 224]. Weights for input shape (224, 224) will be loaded as the default.\n"
     ]
    },
    {
     "name": "stdout",
     "output_type": "stream",
     "text": [
      "WARNING:tensorflow:AutoGraph could not transform <function Dataset.Training.__init__.<locals>.process_path at 0x00000204EAC1C5E0> and will run it as-is.\n",
      "Please report this to the TensorFlow team. When filing the bug, set the verbosity to 10 (on Linux, `export AUTOGRAPH_VERBOSITY=10`) and attach the full output.\n",
      "Cause: closure mismatch, requested ('self',), but source function had ()\n",
      "To silence this warning, decorate the function with @tf.autograph.experimental.do_not_convert\n"
     ]
    },
    {
     "name": "stderr",
     "output_type": "stream",
     "text": [
      "WARNING:tensorflow:AutoGraph could not transform <function Dataset.Training.__init__.<locals>.process_path at 0x00000204EAC1C5E0> and will run it as-is.\n",
      "Please report this to the TensorFlow team. When filing the bug, set the verbosity to 10 (on Linux, `export AUTOGRAPH_VERBOSITY=10`) and attach the full output.\n",
      "Cause: closure mismatch, requested ('self',), but source function had ()\n",
      "To silence this warning, decorate the function with @tf.autograph.experimental.do_not_convert\n"
     ]
    },
    {
     "name": "stdout",
     "output_type": "stream",
     "text": [
      "WARNING: AutoGraph could not transform <function Dataset.Training.__init__.<locals>.process_path at 0x00000204EAC1C5E0> and will run it as-is.\n",
      "Please report this to the TensorFlow team. When filing the bug, set the verbosity to 10 (on Linux, `export AUTOGRAPH_VERBOSITY=10`) and attach the full output.\n",
      "Cause: closure mismatch, requested ('self',), but source function had ()\n",
      "To silence this warning, decorate the function with @tf.autograph.experimental.do_not_convert\n",
      "WARNING:tensorflow:AutoGraph could not transform <function Dataset.Training.__init__.<locals>.process_path.<locals>.<lambda> at 0x00000204EAC1C3A0> and will run it as-is.\n",
      "Cause: could not parse the source code of <function Dataset.Training.__init__.<locals>.process_path.<locals>.<lambda> at 0x00000204EAC1C3A0>: no matching AST found among candidates:\n",
      "# coding=utf-8\n",
      "lambda ds, lbl: tf.data.Dataset.zip((ds, lbl))\n",
      "# coding=utf-8\n",
      "lambda ds, lbl: tf.data.Dataset.zip((ds, lbl))\n",
      "# coding=utf-8\n",
      "lambda x, y: tf.data.Dataset.zip((x.batch(self.seq_len), y.batch(1)))\n",
      "To silence this warning, decorate the function with @tf.autograph.experimental.do_not_convert\n"
     ]
    },
    {
     "name": "stderr",
     "output_type": "stream",
     "text": [
      "WARNING:tensorflow:AutoGraph could not transform <function Dataset.Training.__init__.<locals>.process_path.<locals>.<lambda> at 0x00000204EAC1C3A0> and will run it as-is.\n",
      "Cause: could not parse the source code of <function Dataset.Training.__init__.<locals>.process_path.<locals>.<lambda> at 0x00000204EAC1C3A0>: no matching AST found among candidates:\n",
      "# coding=utf-8\n",
      "lambda ds, lbl: tf.data.Dataset.zip((ds, lbl))\n",
      "# coding=utf-8\n",
      "lambda ds, lbl: tf.data.Dataset.zip((ds, lbl))\n",
      "# coding=utf-8\n",
      "lambda x, y: tf.data.Dataset.zip((x.batch(self.seq_len), y.batch(1)))\n",
      "To silence this warning, decorate the function with @tf.autograph.experimental.do_not_convert\n"
     ]
    },
    {
     "name": "stdout",
     "output_type": "stream",
     "text": [
      "WARNING: AutoGraph could not transform <function Dataset.Training.__init__.<locals>.process_path.<locals>.<lambda> at 0x00000204EAC1C3A0> and will run it as-is.\n",
      "Cause: could not parse the source code of <function Dataset.Training.__init__.<locals>.process_path.<locals>.<lambda> at 0x00000204EAC1C3A0>: no matching AST found among candidates:\n",
      "# coding=utf-8\n",
      "lambda ds, lbl: tf.data.Dataset.zip((ds, lbl))\n",
      "# coding=utf-8\n",
      "lambda ds, lbl: tf.data.Dataset.zip((ds, lbl))\n",
      "# coding=utf-8\n",
      "lambda x, y: tf.data.Dataset.zip((x.batch(self.seq_len), y.batch(1)))\n",
      "To silence this warning, decorate the function with @tf.autograph.experimental.do_not_convert\n",
      "WARNING:tensorflow:AutoGraph could not transform <function Dataset.Training.__init__.<locals>.<lambda> at 0x00000204EAC1C550> and will run it as-is.\n",
      "Cause: could not parse the source code of <function Dataset.Training.__init__.<locals>.<lambda> at 0x00000204EAC1C550>: no matching AST found among candidates:\n",
      "# coding=utf-8\n",
      "lambda ds, lbl: tf.data.Dataset.zip((ds, lbl))\n",
      "# coding=utf-8\n",
      "lambda ds, lbl: tf.data.Dataset.zip((ds, lbl))\n",
      "# coding=utf-8\n",
      "lambda x, y: tf.data.Dataset.zip((x.batch(self.seq_len), y.batch(1)))\n",
      "To silence this warning, decorate the function with @tf.autograph.experimental.do_not_convert\n"
     ]
    },
    {
     "name": "stderr",
     "output_type": "stream",
     "text": [
      "WARNING:tensorflow:AutoGraph could not transform <function Dataset.Training.__init__.<locals>.<lambda> at 0x00000204EAC1C550> and will run it as-is.\n",
      "Cause: could not parse the source code of <function Dataset.Training.__init__.<locals>.<lambda> at 0x00000204EAC1C550>: no matching AST found among candidates:\n",
      "# coding=utf-8\n",
      "lambda ds, lbl: tf.data.Dataset.zip((ds, lbl))\n",
      "# coding=utf-8\n",
      "lambda ds, lbl: tf.data.Dataset.zip((ds, lbl))\n",
      "# coding=utf-8\n",
      "lambda x, y: tf.data.Dataset.zip((x.batch(self.seq_len), y.batch(1)))\n",
      "To silence this warning, decorate the function with @tf.autograph.experimental.do_not_convert\n"
     ]
    },
    {
     "name": "stdout",
     "output_type": "stream",
     "text": [
      "WARNING: AutoGraph could not transform <function Dataset.Training.__init__.<locals>.<lambda> at 0x00000204EAC1C550> and will run it as-is.\n",
      "Cause: could not parse the source code of <function Dataset.Training.__init__.<locals>.<lambda> at 0x00000204EAC1C550>: no matching AST found among candidates:\n",
      "# coding=utf-8\n",
      "lambda ds, lbl: tf.data.Dataset.zip((ds, lbl))\n",
      "# coding=utf-8\n",
      "lambda ds, lbl: tf.data.Dataset.zip((ds, lbl))\n",
      "# coding=utf-8\n",
      "lambda x, y: tf.data.Dataset.zip((x.batch(self.seq_len), y.batch(1)))\n",
      "To silence this warning, decorate the function with @tf.autograph.experimental.do_not_convert\n",
      "    217/Unknown - 23s 79ms/step - loss: 0.0814 - sparse_categorical_accuracy: 0.9745\n",
      "Epoch 1: val_loss improved from inf to 0.02989, saving model to ../saved_experiments/mobilenet_experiments_1\\gru\n",
      "INFO:tensorflow:Assets written to: ../saved_experiments/mobilenet_experiments_1\\gru\\assets\n"
     ]
    },
    {
     "name": "stderr",
     "output_type": "stream",
     "text": [
      "INFO:tensorflow:Assets written to: ../saved_experiments/mobilenet_experiments_1\\gru\\assets\n"
     ]
    },
    {
     "name": "stdout",
     "output_type": "stream",
     "text": [
      "218/218 [==============================] - 47s 189ms/step - loss: 0.0814 - sparse_categorical_accuracy: 0.9745 - val_loss: 0.0299 - val_sparse_categorical_accuracy: 0.9968\n"
     ]
    }
   ],
   "source": [
    "if __name__ == '__main__':\n",
    "    # train test loop\n",
    "    for idx, (experiment_params, data_params, extractor_params, model_params) in \\\n",
    "            enumerate(zip(EXPERIMENT_PARAMS, DATASETS_PARAMS, EXTRACTOR_PARAMS, MODEL_PARAMS)):\n",
    "\n",
    "        # init based on hyper parameters\n",
    "        extractor = extractor_params[0](**extractor_params[1])  # get extractor\n",
    "        dataset = datasets.Dataset.Training(**data_params, extractor=extractor)  # get data\n",
    "        model = model_params[0](output_size=len(dataset.labels), **model_params[1])  # get model\n",
    "\n",
    "        train_model(model, dataset, experiment_params)  # train model\n",
    "        # test_model(model, dataset, experiment_params)  # evaluate model"
   ]
  }
 ],
 "metadata": {
  "kernelspec": {
   "display_name": "Python 3 (ipykernel)",
   "language": "python",
   "name": "python3"
  },
  "language_info": {
   "codemirror_mode": {
    "name": "ipython",
    "version": 3
   },
   "file_extension": ".py",
   "mimetype": "text/x-python",
   "name": "python",
   "nbconvert_exporter": "python",
   "pygments_lexer": "ipython3",
   "version": "3.9.7"
  }
 },
 "nbformat": 4,
 "nbformat_minor": 1
}