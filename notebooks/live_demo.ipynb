{
 "cells": [
  {
   "cell_type": "markdown",
   "metadata": {},
   "source": [
    "# Welcome"
   ]
  },
  {
   "cell_type": "code",
   "execution_count": 3,
   "metadata": {
    "pycharm": {
     "name": "#%%\n"
    }
   },
   "outputs": [],
   "source": [
    "import sys\n",
    "sys.path.append('../')\n",
    "import experiment_runner.feature_extractors_config as fe\n",
    "import tensorflow as tf\n",
    "\n",
    "import os\n",
    "from collections import deque\n",
    "import cv2\n",
    "import numpy as np\n",
    "from IPython.display import display, Image\n",
    "import ipywidgets as widgets\n",
    "import threading"
   ]
  },
  {
   "cell_type": "markdown",
   "metadata": {
    "pycharm": {
     "name": "#%% md\n"
    }
   },
   "source": [
    "## Set Hyperparameters"
   ]
  },
  {
   "cell_type": "code",
   "execution_count": 5,
   "metadata": {
    "pycharm": {
     "name": "#%%\n"
    }
   },
   "outputs": [],
   "source": [
    "SEQ_LEN = 10\n",
    "FEAT_EXTRACTOR = fe.MovenetExtractor()"
   ]
  },
  {
   "cell_type": "code",
   "execution_count": 8,
   "metadata": {},
   "outputs": [
    {
     "data": {
      "application/vnd.jupyter.widget-view+json": {
       "model_id": "e3875298662b49d3ad467d2e28babee8",
       "version_major": 2,
       "version_minor": 0
      },
      "text/plain": [
       "interactive(children=(Dropdown(description='experiment', options=('InceptionGridSearch', 'InceptionGridSearchE…"
      ]
     },
     "metadata": {},
     "output_type": "display_data"
    },
    {
     "data": {
      "application/vnd.jupyter.widget-view+json": {
       "model_id": "a7b9a73a0d724a8c9caf78374872a508",
       "version_major": 2,
       "version_minor": 0
      },
      "text/plain": [
       "interactive(children=(Select(description='model', options=('TxtFiles', 'UCF-3_InceptionExtractor_activation_fu…"
      ]
     },
     "metadata": {},
     "output_type": "display_data"
    },
    {
     "data": {
      "application/vnd.jupyter.widget-view+json": {
       "model_id": "d9b1226ba2fe428ab2c977fb3f0ffb4c",
       "version_major": 2,
       "version_minor": 0
      },
      "text/plain": [
       "Button(description='Load Model', style=ButtonStyle())"
      ]
     },
     "metadata": {},
     "output_type": "display_data"
    }
   ],
   "source": [
    "dir_path = '../saved_experiments'\n",
    "dir_list = list(os.walk(dir_path))[0][1]\n",
    "model_names = dict(map(lambda x: (x, list(os.walk(dir_path+'/'+x))[0][1]), dir_list))\n",
    "global model\n",
    "model = None\n",
    "\n",
    "def select_model(model):\n",
    "    print(os.path.join(dir_path, exp_w.value, model))\n",
    "    return os.path.abspath(os.path.join(dir_path, exp_w.value, model))\n",
    "\n",
    "def select_experiment(experiment):\n",
    "    if 'logs' in model_names[experiment]: model_names[experiment].remove('logs')\n",
    "    model_w.options = model_names[experiment]\n",
    "\n",
    "def load_model(b):\n",
    "    global model\n",
    "    model = tf.saved_model.load(model_w_i.result)\n",
    "\n",
    "exp_w = widgets.Dropdown(options=model_names.keys())\n",
    "model_w = widgets.Select(options=model_names[exp_w.value])\n",
    "model_w_i = widgets.interactive(select_model, model=model_w)\n",
    "exp_w_i = widgets.interactive(select_experiment, experiment=exp_w)\n",
    "\n",
    "button = widgets.Button(description=\"Load Model\")\n",
    "button.on_click(load_model)\n",
    "\n",
    "display(exp_w_i)\n",
    "display(model_w_i)\n",
    "display(button)"
   ]
  },
  {
   "cell_type": "markdown",
   "metadata": {
    "pycharm": {
     "name": "#%% md\n"
    }
   },
   "source": [
    "## Run"
   ]
  },
  {
   "cell_type": "code",
   "execution_count": 9,
   "metadata": {
    "pycharm": {
     "name": "#%%\n"
    }
   },
   "outputs": [],
   "source": [
    "stopButton = widgets.ToggleButton(\n",
    "    value=False,\n",
    "    description='Stop',\n",
    "    disabled=False,\n",
    "    button_style='danger', # 'success', 'info', 'warning', 'danger' or ''\n",
    "    tooltip='Description',\n",
    "    icon='square' # (FontAwesome names without the fa- prefix)\n",
    ")\n",
    "def view(button):\n",
    "    cap = cv2.VideoCapture(0)\n",
    "\n",
    "    display_handle=display(None, display_id=True)\n",
    "    frame_queue = deque(maxlen=SEQ_LEN)\n",
    "\n",
    "    font                   = cv2.FONT_HERSHEY_SIMPLEX\n",
    "    fontScale              = .5\n",
    "    fontColor              = (0, 0,255)\n",
    "    thickness              = 1\n",
    "    lineType               = 2\n",
    "    CLASS_LIST=['JumpingJack', 'PushUp', 'BodyWeightSquats']\n",
    "    \n",
    "    while cap.isOpened():\n",
    "        ret, frame = cap.read()\n",
    "        if not ret:\n",
    "            break\n",
    "\n",
    "        # extract features and add to frame queue\n",
    "        frame_features = FEAT_EXTRACTOR.live_extract(frame)\n",
    "        frame_queue.append(tf.keras.layers.Flatten()(frame_features))\n",
    "        if len(frame_queue)<SEQ_LEN:\n",
    "            print('Queueing frame:', len(frame_queue), end='\\r')\n",
    "            continue\n",
    "        x = tf.convert_to_tensor(list(frame_queue))\n",
    "        x = tf.transpose(x, perm=[1, 0, 2])\n",
    "\n",
    "        if len(frame_queue) == SEQ_LEN:\n",
    "            predicted_label_probabilities = model(x)[0]\n",
    "            predicted_label = np.argmax(predicted_label_probabilities)\n",
    "        \n",
    "        for idx, (pred, label) in enumerate(zip(predicted_label_probabilities.numpy(), CLASS_LIST)):\n",
    "            cv2.putText(frame, label+': '+'{:f}'.format(pred) , (10, 30*(idx+1)), cv2.FONT_HERSHEY_SIMPLEX,1, (0, 255 if idx==predicted_label else 0, 255), 2)\n",
    "\n",
    "        ret, frame = cv2.imencode('.jpeg', frame)\n",
    "        display_handle.update(Image(data=frame.tobytes()))\n",
    "        \n",
    "        if stopButton.value:\n",
    "            cap.release()\n",
    "            display_handle.update(None)\n",
    "            cv2.destroyAllWindows()\n",
    "            break"
   ]
  },
  {
   "cell_type": "markdown",
   "metadata": {
    "pycharm": {
     "name": "#%% md\n"
    }
   },
   "source": []
  },
  {
   "cell_type": "code",
   "execution_count": 10,
   "metadata": {
    "pycharm": {
     "name": "#%%\n"
    },
    "scrolled": true
   },
   "outputs": [
    {
     "data": {
      "application/vnd.jupyter.widget-view+json": {
       "model_id": "57d7119a85fa4cce933681e12c6f2b67",
       "version_major": 2,
       "version_minor": 0
      },
      "text/plain": [
       "ToggleButton(value=False, button_style='danger', description='Stop', icon='square', tooltip='Description')"
      ]
     },
     "metadata": {},
     "output_type": "display_data"
    },
    {
     "data": {
      "image/jpeg": "[encoded data removed]",
      "text/plain": [
       "<IPython.core.display.Image object>"
      ]
     },
     "metadata": {},
     "output_type": "display_data"
    },
    {
     "name": "stdout",
     "output_type": "stream",
     "text": [
      "Queueing frame: 9\r"
     ]
    },
    {
     "name": "stderr",
     "output_type": "stream",
     "text": [
      "Exception in thread Thread-5:\n",
      "Traceback (most recent call last):\n",
      "  File \"C:\\Users\\Govin\\AppData\\Local\\Programs\\Python\\Python39\\lib\\threading.py\", line 973, in _bootstrap_inner\n",
      "    self.run()\n",
      "  File \"C:\\Users\\Govin\\AppData\\Local\\Programs\\Python\\Python39\\lib\\threading.py\", line 910, in run\n",
      "    self._target(*self._args, **self._kwargs)\n",
      "  File \"C:\\Users\\Govin\\AppData\\Local\\Temp\\ipykernel_18192\\1640656378.py\", line 51, in view\n",
      "NameError: name 'out' is not defined\n"
     ]
    }
   ],
   "source": [
    "display(stopButton)\n",
    "thread = threading.Thread(target=view, args=(stopButton,))\n",
    "thread.start()"
   ]
  }
 ],
 "metadata": {
  "celltoolbar": "Raw Cell Format",
  "kernelspec": {
   "display_name": "Python 3 (ipykernel)",
   "language": "python",
   "name": "python3"
  },
  "language_info": {
   "codemirror_mode": {
    "name": "ipython",
    "version": 3
   },
   "file_extension": ".py",
   "mimetype": "text/x-python",
   "name": "python",
   "nbconvert_exporter": "python",
   "pygments_lexer": "ipython3",
   "version": "3.9.7"
  }
 },
 "nbformat": 4,
 "nbformat_minor": 1
}