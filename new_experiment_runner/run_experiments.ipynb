{
 "cells": [
  {
   "cell_type": "code",
   "execution_count": 2,
   "metadata": {},
   "outputs": [],
   "source": [
    "# IMPORT REQUIRED DEPENDENCIES\n",
    "import os\n",
    "from datetime import datetime\n",
    "\n",
    "import tensorflow as tf\n",
    "\n",
    "import models_config as models\n",
    "import datasets_config as datasets\n",
    "import feature_extractors_config as feature_extractors"
   ]
  },
  {
   "cell_type": "code",
   "execution_count": 14,
   "metadata": {
    "pycharm": {
     "name": "#%%\n"
    }
   },
   "outputs": [],
   "source": [
    "# EXPERIMENT PARAMETERS\n",
    "EXPERIMENT_NAME = 'mobilenet_experiments_1'\n",
    "EXPERIMENT_PARAMS = [\n",
    "    {'name': 'gru',\n",
    "     'batch_size': 64,\n",
    "     'epochs': 5,\n",
    "     },\n",
    "]"
   ]
  },
  {
   "cell_type": "code",
   "execution_count": 15,
   "metadata": {
    "pycharm": {
     "name": "#%%\n"
    }
   },
   "outputs": [],
   "source": [
    "# DATA PARAMETERS\n",
    "DATASETS_PARAMS = [\n",
    "    {'dataset_path': '../datasets/UCF-3',\n",
    "     'seq_len': 50,\n",
    "     'train_test_split': .8\n",
    "     },\n",
    "]"
   ]
  },
  {
   "cell_type": "code",
   "execution_count": 16,
   "metadata": {
    "pycharm": {
     "name": "#%%\n"
    }
   },
   "outputs": [],
   "source": [
    "# EXTRACTOR PARAMETERS\n",
    "EXTRACTOR_PARAMS = [\n",
    "    (feature_extractors.MobileNetV2Extractor, {}),\n",
    "]"
   ]
  },
  {
   "cell_type": "code",
   "execution_count": 17,
   "metadata": {
    "pycharm": {
     "name": "#%%\n"
    }
   },
   "outputs": [],
   "source": [
    "# MODEL PARAMETERS\n",
    "MODEL_PARAMS = [\n",
    "    (models.GRU.gru2, {'activation_function': 'relu',\n",
    "                       'loss_function': 'sparse_categorical_crossentropy',\n",
    "                       'optimizer': 'adam',\n",
    "                       }),\n",
    "]"
   ]
  },
  {
   "cell_type": "code",
   "execution_count": 18,
   "metadata": {
    "pycharm": {
     "name": "#%%\n"
    }
   },
   "outputs": [],
   "source": [
    "# TRAIN MODEL AND SAVE TO saved_experiments DIRECTORY\n",
    "def train_model(model, dataset, experiment_params):\n",
    "    experiment_dir = os.path.join('../saved_experiments', EXPERIMENT_NAME)\n",
    "\n",
    "    log_dir = os.path.join(experiment_dir, 'logs/fit/',\n",
    "                           experiment_params['name'] + '_' + datetime.now().strftime(\"%Y%m%d-%H%M%S\"))\n",
    "\n",
    "    save_model_callback = tf.keras.callbacks.ModelCheckpoint(os.path.join(experiment_dir, experiment_params['name']),\n",
    "                                                             monitor='val_loss',\n",
    "                                                             verbose=1,\n",
    "                                                             save_best_only=True,\n",
    "                                                             options=None,)\n",
    "\n",
    "    tensorboard_callback = tf.keras.callbacks.TensorBoard(log_dir=log_dir,\n",
    "                                                          histogram_freq=1,\n",
    "                                                          update_freq='epoch',)\n",
    "\n",
    "    out = model.fit(\n",
    "        dataset.train_dataset,\n",
    "        validation_data=dataset.validation_dataset,\n",
    "        epochs=experiment_params['epochs'],\n",
    "        batch_size=experiment_params['batch_size'],\n",
    "        callbacks=[tensorboard_callback, save_model_callback],\n",
    "    )\n",
    "    return out"
   ]
  },
  {
   "cell_type": "code",
   "execution_count": 19,
   "metadata": {
    "pycharm": {
     "name": "#%%\n"
    }
   },
   "outputs": [
    {
     "name": "stdout",
     "output_type": "stream",
     "text": [
      "WARNING:tensorflow:`input_shape` is undefined or non-square, or `rows` is not in [96, 128, 160, 192, 224]. Weights for input shape (224, 224) will be loaded as the default.\n",
      "Epoch 1/2\n",
      "218/218 [==============================] - 39s 162ms/step - loss: 1.0129 - sparse_categorical_accuracy: 0.5311 - val_loss: 1.0270 - val_sparse_categorical_accuracy: 0.5234\n",
      "Epoch 2/2\n",
      "218/218 [==============================] - 38s 165ms/step - loss: 1.0077 - sparse_categorical_accuracy: 0.5335 - val_loss: 1.0210 - val_sparse_categorical_accuracy: 0.5248\n"
     ]
    }
   ],
   "source": [
    "if __name__ == '__main__':\n",
    "    # train test loop\n",
    "    for idx, (experiment_params, data_params, extractor_params, model_params) in \\\n",
    "            enumerate(zip(EXPERIMENT_PARAMS, DATASETS_PARAMS, EXTRACTOR_PARAMS, MODEL_PARAMS)):\n",
    "\n",
    "        # init based on hyper parameters\n",
    "        extractor = extractor_params[0](**extractor_params[1])  # get extractor\n",
    "        dataset = datasets.Dataset.Training(**data_params, extractor=extractor)  # get data\n",
    "        model = model_params[0](output_size=len(dataset.labels), **model_params[1])  # get model\n",
    "\n",
    "        train_model(model, dataset, experiment_params)  # train model\n",
    "        # test_model(model, dataset, experiment_params)  # evaluate model"
   ]
  }
 ],
 "metadata": {
  "kernelspec": {
   "display_name": "Python 3 (ipykernel)",
   "language": "python",
   "name": "python3"
  },
  "language_info": {
   "codemirror_mode": {
    "name": "ipython",
    "version": 3
   },
   "file_extension": ".py",
   "mimetype": "text/x-python",
   "name": "python",
   "nbconvert_exporter": "python",
   "pygments_lexer": "ipython3",
   "version": "3.9.7"
  }
 },
 "nbformat": 4,
 "nbformat_minor": 1
}