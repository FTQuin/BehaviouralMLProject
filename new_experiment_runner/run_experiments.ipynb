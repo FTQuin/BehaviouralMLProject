{
 "cells": [
  {
   "cell_type": "markdown",
   "metadata": {
    "pycharm": {
     "name": "#%% md\n"
    }
   },
   "source": [
    "# Welcome"
   ]
  },
  {
   "cell_type": "markdown",
   "metadata": {},
   "source": [
    "## IMPORT REQUIRED DEPENDENCIES"
   ]
  },
  {
   "cell_type": "code",
   "execution_count": 1,
   "metadata": {
    "pycharm": {
     "name": "#%%\n"
    }
   },
   "outputs": [],
   "source": [
    "import os\n",
    "from datetime import datetime\n",
    "\n",
    "import tensorflow as tf\n",
    "\n",
    "import models_config as models\n",
    "import datasets_config as datasets\n",
    "import feature_extractors_config as feature_extractors"
   ]
  },
  {
   "cell_type": "code",
   "execution_count": 2,
   "metadata": {
    "pycharm": {
     "name": "#%%\n"
    }
   },
   "outputs": [],
   "source": [
    "from absl import logging\n",
    "logging.set_verbosity(logging.ERROR)"
   ]
  },
  {
   "cell_type": "markdown",
   "metadata": {
    "pycharm": {
     "name": "#%% md\n"
    }
   },
   "source": [
    "## Set Hyper Parameters"
   ]
  },
  {
   "cell_type": "markdown",
   "metadata": {
    "pycharm": {
     "name": "#%% md\n"
    }
   },
   "source": [
    "### EXPERIMENT PARAMETERS"
   ]
  },
  {
   "cell_type": "code",
   "execution_count": 3,
   "metadata": {
    "pycharm": {
     "name": "#%%\n"
    }
   },
   "outputs": [],
   "source": [
    "EXPERIMENT_NAME = 'mobilenet_experiments_2'\n",
    "EXPERIMENT_PARAMS = [\n",
    "    {'name': 'gru',\n",
    "     'batch_size': 64,\n",
    "     'epochs': 5,\n",
    "     },\n",
    "]"
   ]
  },
  {
   "cell_type": "markdown",
   "metadata": {
    "pycharm": {
     "name": "#%% md\n"
    }
   },
   "source": [
    "### DATA PARAMETERS"
   ]
  },
  {
   "cell_type": "code",
   "execution_count": 4,
   "metadata": {
    "pycharm": {
     "name": "#%%\n"
    }
   },
   "outputs": [],
   "source": [
    "DATASETS_PARAMS = [\n",
    "    {'dataset_path': './datasets/UCF-3',\n",
    "     'seq_len': 50,\n",
    "     'train_test_split': .8\n",
    "     },\n",
    "]"
   ]
  },
  {
   "cell_type": "markdown",
   "metadata": {
    "pycharm": {
     "name": "#%% md\n"
    }
   },
   "source": [
    "### EXTRACTOR PARAMETERS"
   ]
  },
  {
   "cell_type": "code",
   "execution_count": 5,
   "metadata": {
    "pycharm": {
     "name": "#%%\n"
    }
   },
   "outputs": [],
   "source": [
    "EXTRACTOR_PARAMS = [\n",
    "    (feature_extractors.MobileNetV2Extractor, {}),\n",
    "]"
   ]
  },
  {
   "cell_type": "markdown",
   "metadata": {
    "pycharm": {
     "name": "#%% md\n"
    }
   },
   "source": [
    "### MODEL PARAMETERS"
   ]
  },
  {
   "cell_type": "code",
   "execution_count": 6,
   "metadata": {
    "pycharm": {
     "name": "#%%\n"
    }
   },
   "outputs": [],
   "source": [
    "MODEL_PARAMS = [\n",
    "    (models.GRU.gru2, {'activation_function': 'relu',\n",
    "                       'loss_function': 'sparse_categorical_crossentropy',\n",
    "                       'optimizer': 'adam',\n",
    "                       }),\n",
    "]"
   ]
  },
  {
   "cell_type": "markdown",
   "metadata": {
    "pycharm": {
     "name": "#%% md\n"
    }
   },
   "source": [
    " ## Create train function"
   ]
  },
  {
   "cell_type": "code",
   "execution_count": 7,
   "metadata": {
    "pycharm": {
     "name": "#%%\n"
    }
   },
   "outputs": [],
   "source": [
    "# TRAIN MODEL AND SAVE TO saved_experiments DIRECTORY\n",
    "def train_model(model, dataset, experiment_params):\n",
    "    experiment_dir = os.path.join('..\\\\saved_experiments', EXPERIMENT_NAME)\n",
    "\n",
    "    log_dir = os.path.join(experiment_dir, 'logs/fit/',\n",
    "                           experiment_params['name'] + '_' + datetime.now().strftime(\"%Y%m%d-%H%M%S\"))\n",
    "\n",
    "    save_model_callback = tf.keras.callbacks.ModelCheckpoint(os.path.join(experiment_dir, experiment_params['name']),\n",
    "                                                             monitor='val_loss',\n",
    "                                                             verbose=1,\n",
    "                                                             save_best_only=True,\n",
    "                                                             options=None,)\n",
    "\n",
    "    tensorboard_callback = tf.keras.callbacks.TensorBoard(log_dir=log_dir,\n",
    "                                                          histogram_freq=1,\n",
    "                                                          update_freq='epoch',)\n",
    "\n",
    "    out = model.fit(\n",
    "        dataset.train_dataset,\n",
    "        validation_data=dataset.validation_dataset,\n",
    "        epochs=experiment_params['epochs'],\n",
    "        batch_size=experiment_params['batch_size'],\n",
    "        callbacks=[tensorboard_callback, save_model_callback],\n",
    "    )\n",
    "    return out"
   ]
  },
  {
   "cell_type": "markdown",
   "metadata": {
    "pycharm": {
     "name": "#%% md\n"
    }
   },
   "source": []
  },
  {
   "cell_type": "code",
   "execution_count": 8,
   "metadata": {
    "pycharm": {
     "name": "#%%\n"
    }
   },
   "outputs": [
    {
     "data": {
      "text/plain": [
       "Launching TensorBoard..."
      ]
     },
     "metadata": {},
     "output_type": "display_data"
    },
    {
     "data": {
      "text/html": [
       "\n",
       "      <iframe id=\"tensorboard-frame-fcf544ac590908ed\" width=\"100%\" height=\"800\" frameborder=\"0\">\n",
       "      </iframe>\n",
       "      <script>\n",
       "        (function() {\n",
       "          const frame = document.getElementById(\"tensorboard-frame-fcf544ac590908ed\");\n",
       "          const url = new URL(\"/\", window.location);\n",
       "          const port = 6006;\n",
       "          if (port) {\n",
       "            url.port = port;\n",
       "          }\n",
       "          frame.src = url;\n",
       "        })();\n",
       "      </script>\n",
       "    "
      ],
      "text/plain": [
       "<IPython.core.display.HTML object>"
      ]
     },
     "metadata": {},
     "output_type": "display_data"
    }
   ],
   "source": [
    "from tensorboard import notebook\n",
    "log_dir = os.path.join('..\\\\saved_experiments', EXPERIMENT_NAME, 'logs')\n",
    "%load_ext tensorboard\n",
    "%tensorboard --logdir {log_dir}"
   ]
  },
  {
   "cell_type": "code",
   "execution_count": 9,
   "metadata": {
    "pycharm": {
     "name": "#%%\n"
    }
   },
   "outputs": [
    {
     "name": "stdout",
     "output_type": "stream",
     "text": [
      "Epoch 1/5\n",
      "      4/Unknown - 4s 135ms/step - loss: 0.7355 - sparse_categorical_accuracy: 0.7067\n",
      "Epoch 1: val_loss improved from inf to 0.30252, saving model to ..\\saved_experiments\\mobilenet_experiments_2\\gru\n",
      "INFO:tensorflow:Assets written to: ..\\saved_experiments\\mobilenet_experiments_2\\gru\\assets\n"
     ]
    },
    {
     "name": "stderr",
     "output_type": "stream",
     "text": [
      "INFO:tensorflow:Assets written to: ..\\saved_experiments\\mobilenet_experiments_2\\gru\\assets\n"
     ]
    },
    {
     "name": "stdout",
     "output_type": "stream",
     "text": [
      "4/4 [==============================] - 10s 2s/step - loss: 0.7355 - sparse_categorical_accuracy: 0.7067 - val_loss: 0.3025 - val_sparse_categorical_accuracy: 0.8182\n",
      "Epoch 2/5\n",
      "4/4 [==============================] - ETA: 0s - loss: 0.2686 - sparse_categorical_accuracy: 0.9111\n",
      "Epoch 2: val_loss improved from 0.30252 to 0.07208, saving model to ..\\saved_experiments\\mobilenet_experiments_2\\gru\n",
      "INFO:tensorflow:Assets written to: ..\\saved_experiments\\mobilenet_experiments_2\\gru\\assets\n"
     ]
    },
    {
     "name": "stderr",
     "output_type": "stream",
     "text": [
      "INFO:tensorflow:Assets written to: ..\\saved_experiments\\mobilenet_experiments_2\\gru\\assets\n"
     ]
    },
    {
     "name": "stdout",
     "output_type": "stream",
     "text": [
      "4/4 [==============================] - 6s 2s/step - loss: 0.2686 - sparse_categorical_accuracy: 0.9111 - val_loss: 0.0721 - val_sparse_categorical_accuracy: 1.0000\n",
      "Epoch 3/5\n",
      "4/4 [==============================] - ETA: 0s - loss: 0.1181 - sparse_categorical_accuracy: 0.9733\n",
      "Epoch 3: val_loss improved from 0.07208 to 0.02671, saving model to ..\\saved_experiments\\mobilenet_experiments_2\\gru\n",
      "INFO:tensorflow:Assets written to: ..\\saved_experiments\\mobilenet_experiments_2\\gru\\assets\n"
     ]
    },
    {
     "name": "stderr",
     "output_type": "stream",
     "text": [
      "INFO:tensorflow:Assets written to: ..\\saved_experiments\\mobilenet_experiments_2\\gru\\assets\n"
     ]
    },
    {
     "name": "stdout",
     "output_type": "stream",
     "text": [
      "4/4 [==============================] - 6s 2s/step - loss: 0.1181 - sparse_categorical_accuracy: 0.9733 - val_loss: 0.0267 - val_sparse_categorical_accuracy: 1.0000\n",
      "Epoch 4/5\n",
      "4/4 [==============================] - ETA: 0s - loss: 0.0600 - sparse_categorical_accuracy: 0.9778\n",
      "Epoch 4: val_loss improved from 0.02671 to 0.00330, saving model to ..\\saved_experiments\\mobilenet_experiments_2\\gru\n",
      "INFO:tensorflow:Assets written to: ..\\saved_experiments\\mobilenet_experiments_2\\gru\\assets\n"
     ]
    },
    {
     "name": "stderr",
     "output_type": "stream",
     "text": [
      "INFO:tensorflow:Assets written to: ..\\saved_experiments\\mobilenet_experiments_2\\gru\\assets\n"
     ]
    },
    {
     "name": "stdout",
     "output_type": "stream",
     "text": [
      "4/4 [==============================] - 6s 2s/step - loss: 0.0600 - sparse_categorical_accuracy: 0.9778 - val_loss: 0.0033 - val_sparse_categorical_accuracy: 1.0000\n",
      "Epoch 5/5\n",
      "4/4 [==============================] - ETA: 0s - loss: 0.0409 - sparse_categorical_accuracy: 0.9778\n",
      "Epoch 5: val_loss did not improve from 0.00330\n",
      "4/4 [==============================] - 1s 306ms/step - loss: 0.0409 - sparse_categorical_accuracy: 0.9778 - val_loss: 0.0224 - val_sparse_categorical_accuracy: 0.9773\n"
     ]
    }
   ],
   "source": [
    "if __name__ == '__main__':\n",
    "    # train test loop\n",
    "    for idx, (experiment_params, data_params, extractor_params, model_params) in \\\n",
    "            enumerate(zip(EXPERIMENT_PARAMS, DATASETS_PARAMS, EXTRACTOR_PARAMS, MODEL_PARAMS)):\n",
    "\n",
    "        # init based on hyper parameters\n",
    "        extractor = extractor_params[0](**extractor_params[1])  # get extractor\n",
    "        dataset = datasets.Dataset.Training(**data_params, extractor=extractor)  # get data\n",
    "        model = model_params[0](output_size=len(dataset.labels), **model_params[1])  # get model\n",
    "\n",
    "        train_model(model, dataset, experiment_params)  # train model\n",
    "        # test_model(model, dataset, experiment_params)  # evaluate model"
   ]
  }
 ],
 "metadata": {
  "kernelspec": {
   "display_name": "Python 3 (ipykernel)",
   "language": "python",
   "name": "python3"
  },
  "language_info": {
   "codemirror_mode": {
    "name": "ipython",
    "version": 3
   },
   "file_extension": ".py",
   "mimetype": "text/x-python",
   "name": "python",
   "nbconvert_exporter": "python",
   "pygments_lexer": "ipython3",
   "version": "3.10.0"
  }
 },
 "nbformat": 4,
 "nbformat_minor": 1
}