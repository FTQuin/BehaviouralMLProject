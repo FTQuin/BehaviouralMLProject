{
 "cells": [
  {
   "cell_type": "code",
   "execution_count": 1,
   "metadata": {
    "pycharm": {
     "name": "#%%\n"
    }
   },
   "outputs": [],
   "source": [
    "import train_network as tn\n",
    "import frame_feature_extractor as ffe\n",
    "import signal\n",
    "import tensorflow as tf\n",
    "\n",
    "from collections import deque\n",
    "import cv2\n",
    "import matplotlib as plt\n",
    "import numpy as np\n",
    "from IPython.display import display, Image\n",
    "import ipywidgets as widgets\n",
    "import threading"
   ]
  },
  {
   "cell_type": "code",
   "execution_count": 2,
   "metadata": {
    "pycharm": {
     "name": "#%%\n"
    }
   },
   "outputs": [],
   "source": [
    "model = tf.saved_model.load('../saved_experiments/test_experiment')"
   ]
  },
  {
   "cell_type": "markdown",
   "metadata": {
    "pycharm": {
     "name": "#%% md\n"
    }
   },
   "source": [
    "# Set Hyperparameters"
   ]
  },
  {
   "cell_type": "code",
   "execution_count": 3,
   "metadata": {
    "pycharm": {
     "name": "#%%\n"
    }
   },
   "outputs": [],
   "source": [
    "SEQ_LEN = 20\n",
    "THRESHOLD = .6"
   ]
  },
  {
   "cell_type": "markdown",
   "metadata": {
    "pycharm": {
     "name": "#%% md\n"
    }
   },
   "source": [
    "# Stop button\n",
    "# ================"
   ]
  },
  {
   "cell_type": "code",
   "execution_count": 4,
   "metadata": {
    "pycharm": {
     "name": "#%%\n"
    }
   },
   "outputs": [],
   "source": [
    "stopButton = widgets.ToggleButton(\n",
    "    value=False,\n",
    "    description='Stop',\n",
    "    disabled=False,\n",
    "    button_style='danger', # 'success', 'info', 'warning', 'danger' or ''\n",
    "    tooltip='Description',\n",
    "    icon='square' # (FontAwesome names without the fa- prefix)\n",
    ")\n",
    "def view(button):\n",
    "    cap = cv2.VideoCapture(0)\n",
    "    out = cv2.VideoWriter('./TestVideos/LiveTesting/LSTM/SIGMOID/all3_low.avi', cv2.VideoWriter_fourcc(*'XVID'), 25.0, (int(cap.get(3)), int(cap.get(4))))\n",
    "\n",
    "    frame_count = int(cap.get(cv2.CAP_PROP_FRAME_COUNT))\n",
    "\n",
    "    display_handle=display(None, display_id=True)\n",
    "    i = 0\n",
    "    frame_queue = deque(maxlen=SEQ_LEN)\n",
    "\n",
    "    font                   = cv2.FONT_HERSHEY_SIMPLEX\n",
    "    fontScale              = .5\n",
    "    fontColor              = (0, 0,255)\n",
    "    thickness              = 1\n",
    "    lineType               = 2\n",
    "    CLASS_LIST=['JumpingJack', 'PushUp', 'BodyWeightSquats']\n",
    "    \n",
    "    while cap.isOpened():\n",
    "        ret, frame = cap.read()\n",
    "\n",
    "        if not ret:\n",
    "            break\n",
    "\n",
    "        height, width, channels = frame.shape\n",
    "\n",
    "        resized_frame = cv2.resize(frame, (256, 256))\n",
    "        frame_features = ffe.get_features_from_image(resized_frame)\n",
    "        frame_queue.append(tf.keras.layers.Flatten()(frame_features))\n",
    "        if len(frame_queue)<SEQ_LEN:\n",
    "            if len(frame_queue)%10 == 0: print(len(frame_queue))\n",
    "            continue\n",
    "        x = tf.convert_to_tensor(list(frame_queue))\n",
    "        x = tf.transpose(x, perm=[1, 0, 2])\n",
    "\n",
    "#         for p in range(1):\n",
    "#             for f in frame_features[0][p]:\n",
    "#                 if f[2] > THRESHOLD:\n",
    "#                     frame = cv2.circle(frame, (int(f[1]*width), int(f[0]*height)), radius=2, color=(0, (0 if p<1 else 255), 255), thickness=-1)\n",
    "        \n",
    "        if len(frame_queue) == SEQ_LEN:\n",
    "            predicted_label_probabilities = model(x)[0]\n",
    "            \n",
    "            predicted_label = np.argmax(predicted_label_probabilities)\n",
    "            predicted_class = CLASS_LIST[predicted_label]\n",
    "        \n",
    "        cv2.putText(frame, str(predicted_label_probabilities), (10, 30), cv2.FONT_HERSHEY_SIMPLEX,1, (0, 0, 255), 2)\n",
    "\n",
    "        out.write(frame)\n",
    "        ret, frame = cv2.imencode('.jpeg', frame)\n",
    "\n",
    "        display_handle.update(Image(data=frame.tobytes()))\n",
    "        if stopButton.value:\n",
    "            cap.release()\n",
    "            out.release()\n",
    "            display_handle.update(None)\n",
    "            cv2.destroyAllWindows()\n",
    "            break\n",
    "    cap.release()\n",
    "    out.release()\n",
    "    cv2.destroyAllWindows()"
   ]
  },
  {
   "cell_type": "markdown",
   "metadata": {
    "pycharm": {
     "name": "#%% md\n"
    }
   },
   "source": [
    "# Run\n",
    "# ================"
   ]
  },
  {
   "cell_type": "code",
   "execution_count": 5,
   "metadata": {
    "pycharm": {
     "name": "#%%\n"
    }
   },
   "outputs": [
    {
     "data": {
      "application/vnd.jupyter.widget-view+json": {
       "model_id": "6b4338bfa4014681af53dac2215fec9e",
       "version_major": 2,
       "version_minor": 0
      },
      "text/plain": [
       "ToggleButton(value=False, button_style='danger', description='Stop', icon='square', tooltip='Description')"
      ]
     },
     "metadata": {},
     "output_type": "display_data"
    },
    {
     "data": {
      "text/plain": [
       "None"
      ]
     },
     "metadata": {},
     "output_type": "display_data"
    },
    {
     "name": "stdout",
     "output_type": "stream",
     "text": [
      "10\n"
     ]
    }
   ],
   "source": [
    "display(stopButton)\n",
    "thread = threading.Thread(target=view, args=(stopButton,))\n",
    "thread.start()"
   ]
  },
  {
   "cell_type": "code",
   "execution_count": null,
   "metadata": {},
   "outputs": [],
   "source": []
  }
 ],
 "metadata": {
  "kernelspec": {
   "display_name": "Python 3 (ipykernel)",
   "language": "python",
   "name": "python3"
  },
  "language_info": {
   "codemirror_mode": {
    "name": "ipython",
    "version": 3
   },
   "file_extension": ".py",
   "mimetype": "text/x-python",
   "name": "python",
   "nbconvert_exporter": "python",
   "pygments_lexer": "ipython3",
   "version": "3.7.11"
  }
 },
 "nbformat": 4,
 "nbformat_minor": 1
}