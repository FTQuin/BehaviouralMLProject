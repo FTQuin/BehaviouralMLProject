{
 "cells": [
  {
   "cell_type": "code",
   "execution_count": 1,
   "metadata": {
    "pycharm": {
     "name": "#%%\n"
    }
   },
   "outputs": [],
   "source": [
    "import feature_extractors_config as fe\n",
    "import tensorflow as tf\n",
    "\n",
    "import os\n",
    "from collections import deque\n",
    "import cv2\n",
    "import numpy as np\n",
    "from IPython.display import display, Image\n",
    "import ipywidgets as widgets\n",
    "import threading"
   ]
  },
  {
   "cell_type": "code",
   "execution_count": 2,
   "metadata": {},
   "outputs": [
    {
     "data": {
      "application/vnd.jupyter.widget-view+json": {
       "model_id": "7653c497258c472bbfe5e3e1693dfbd8",
       "version_major": 2,
       "version_minor": 0
      },
      "text/plain": [
       "interactive(children=(Dropdown(description='experiment', options=('mobilenet_experiments_0', 'movenet_experime…"
      ]
     },
     "metadata": {},
     "output_type": "display_data"
    },
    {
     "data": {
      "application/vnd.jupyter.widget-view+json": {
       "model_id": "f6c79a5665ad4cbcb30e889577e5b983",
       "version_major": 2,
       "version_minor": 0
      },
      "text/plain": [
       "interactive(children=(Select(description='model', options=('0_gru', '1_lstm', 'logs'), value='0_gru'), Output(…"
      ]
     },
     "metadata": {},
     "output_type": "display_data"
    }
   ],
   "source": [
    "dir_path = '../saved_experiments'\n",
    "dir_list = list(os.walk(dir_path))[0][1]\n",
    "model_names = dict(map(lambda x: (x, list(os.walk(dir_path+'/'+x))[0][1]), dir_list))\n",
    "\n",
    "def print_city(model):\n",
    "    print(os.path.join(dir_path, exp_w.value, model))\n",
    "    return os.path.abspath(os.path.join(dir_path, exp_w.value, model))\n",
    "\n",
    "def select_city(experiment):\n",
    "    model_w.options = model_names[experiment]\n",
    "\n",
    "\n",
    "exp_w = widgets.Dropdown(options=model_names.keys())\n",
    "init = exp_w.value\n",
    "model_w = widgets.Select(options=model_names[init])\n",
    "j = widgets.interactive(print_city, model=model_w)\n",
    "i = widgets.interactive(select_city, experiment=exp_w)\n",
    "display(i)\n",
    "display(j)"
   ]
  },
  {
   "cell_type": "code",
   "execution_count": 3,
   "metadata": {
    "pycharm": {
     "name": "#%%\n"
    }
   },
   "outputs": [],
   "source": [
    "model = tf.saved_model.load(j.result)"
   ]
  },
  {
   "cell_type": "markdown",
   "metadata": {
    "pycharm": {
     "name": "#%% md\n"
    }
   },
   "source": [
    "# Set Hyperparameters"
   ]
  },
  {
   "cell_type": "code",
   "execution_count": 4,
   "metadata": {
    "pycharm": {
     "name": "#%%\n"
    }
   },
   "outputs": [],
   "source": [
    "SEQ_LEN = 50\n",
    "THRESHOLD = .6\n",
    "FEAT_EXTRACTOR = fe.MovenetExtractor()"
   ]
  },
  {
   "cell_type": "markdown",
   "metadata": {
    "pycharm": {
     "name": "#%% md\n"
    }
   },
   "source": [
    "# Stop button\n",
    "# ================"
   ]
  },
  {
   "cell_type": "code",
   "execution_count": 5,
   "metadata": {
    "pycharm": {
     "name": "#%%\n"
    }
   },
   "outputs": [],
   "source": [
    "stopButton = widgets.ToggleButton(\n",
    "    value=False,\n",
    "    description='Stop',\n",
    "    disabled=False,\n",
    "    button_style='danger', # 'success', 'info', 'warning', 'danger' or ''\n",
    "    tooltip='Description',\n",
    "    icon='square' # (FontAwesome names without the fa- prefix)\n",
    ")\n",
    "def view(button):\n",
    "    cap = cv2.VideoCapture(0)\n",
    "    out = cv2.VideoWriter('./TestVideos/LiveTesting/LSTM/SIGMOID/all3_low.avi', cv2.VideoWriter_fourcc(*'XVID'), 25.0, (int(cap.get(3)), int(cap.get(4))))\n",
    "\n",
    "    frame_count = int(cap.get(cv2.CAP_PROP_FRAME_COUNT))\n",
    "\n",
    "    display_handle=display(None, display_id=True)\n",
    "    i = 0\n",
    "    frame_queue = deque(maxlen=SEQ_LEN)\n",
    "\n",
    "    font                   = cv2.FONT_HERSHEY_SIMPLEX\n",
    "    fontScale              = .5\n",
    "    fontColor              = (0, 0,255)\n",
    "    thickness              = 1\n",
    "    lineType               = 2\n",
    "    CLASS_LIST=['JumpingJack', 'PushUp', 'BodyWeightSquats']\n",
    "    \n",
    "    while cap.isOpened():\n",
    "        ret, frame = cap.read()\n",
    "\n",
    "        if not ret:\n",
    "            break\n",
    "\n",
    "        height, width, channels = frame.shape\n",
    "\n",
    "        frame_features = FEAT_EXTRACTOR.live_extract(frame)\n",
    "        frame_queue.append(tf.keras.layers.Flatten()(frame_features))\n",
    "        if len(frame_queue)<SEQ_LEN:\n",
    "            if len(frame_queue)%10 == 0: print(len(frame_queue))\n",
    "            continue\n",
    "        x = tf.convert_to_tensor(list(frame_queue))\n",
    "        x = tf.transpose(x, perm=[1, 0, 2])\n",
    "\n",
    "#         for p in range(1):\n",
    "#             for f in frame_features[0][p]:\n",
    "#                 if f[2] > THRESHOLD:\n",
    "#                     frame = cv2.circle(frame, (int(f[1]*width), int(f[0]*height)), radius=2, color=(0, (0 if p<1 else 255), 255), thickness=-1)\n",
    "        \n",
    "        if len(frame_queue) == SEQ_LEN:\n",
    "            predicted_label_probabilities = model(x)[0]\n",
    "            \n",
    "            predicted_label = np.argmax(predicted_label_probabilities)\n",
    "            predicted_class = CLASS_LIST[predicted_label]\n",
    "        \n",
    "        for idx, (pred, label) in enumerate(zip(predicted_label_probabilities.numpy(), ['Squats', 'Jumping Jacks', 'Pushups'])):\n",
    "            cv2.putText(frame, label+': '+'{:f}'.format(pred) , (10, 30*(idx+1)), cv2.FONT_HERSHEY_SIMPLEX,1, (0, 0, 255), 2)\n",
    "\n",
    "        out.write(frame)\n",
    "        ret, frame = cv2.imencode('.jpeg', frame)\n",
    "\n",
    "        display_handle.update(Image(data=frame.tobytes()))\n",
    "        if stopButton.value:\n",
    "            cap.release()\n",
    "            out.release()\n",
    "            display_handle.update(None)\n",
    "            cv2.destroyAllWindows()\n",
    "            break\n",
    "    cap.release()\n",
    "    out.release()\n",
    "    cv2.destroyAllWindows()"
   ]
  },
  {
   "cell_type": "markdown",
   "metadata": {
    "pycharm": {
     "name": "#%% md\n"
    }
   },
   "source": [
    "# Run\n",
    "# ================"
   ]
  },
  {
   "cell_type": "code",
   "execution_count": 6,
   "metadata": {
    "pycharm": {
     "name": "#%%\n"
    }
   },
   "outputs": [
    {
     "data": {
      "application/vnd.jupyter.widget-view+json": {
       "model_id": "7318ba625a714d8686a4b367731bcdc4",
       "version_major": 2,
       "version_minor": 0
      },
      "text/plain": [
       "ToggleButton(value=False, button_style='danger', description='Stop', icon='square', tooltip='Description')"
      ]
     },
     "metadata": {},
     "output_type": "display_data"
    },
    {
     "data": {
      "text/plain": [
       "None"
      ]
     },
     "metadata": {},
     "output_type": "display_data"
    },
    {
     "name": "stdout",
     "output_type": "stream",
     "text": [
      "10\n",
      "20\n",
      "30\n",
      "40\n"
     ]
    },
    {
     "name": "stderr",
     "output_type": "stream",
     "text": [
      "Exception in thread Thread-8:\n",
      "Traceback (most recent call last):\n",
      "  File \"D:\\Users\\quinj\\anaconda3\\envs\\Python Projects\\lib\\threading.py\", line 926, in _bootstrap_inner\n",
      "    self.run()\n",
      "  File \"D:\\Users\\quinj\\anaconda3\\envs\\Python Projects\\lib\\threading.py\", line 870, in run\n",
      "    self._target(*self._args, **self._kwargs)\n",
      "  File \"C:\\Users\\quinj\\AppData\\Local\\Temp/ipykernel_15780/1261367598.py\", line 48, in view\n",
      "    predicted_label_probabilities = model(x)[0]\n",
      "  File \"D:\\Users\\quinj\\anaconda3\\envs\\Python Projects\\lib\\site-packages\\tensorflow\\python\\saved_model\\load.py\", line 744, in _call_attribute\n",
      "    return instance.__call__(*args, **kwargs)\n",
      "  File \"D:\\Users\\quinj\\anaconda3\\envs\\Python Projects\\lib\\site-packages\\tensorflow\\python\\util\\traceback_utils.py\", line 153, in error_handler\n",
      "    raise e.with_traceback(filtered_tb) from None\n",
      "  File \"D:\\Users\\quinj\\anaconda3\\envs\\Python Projects\\lib\\site-packages\\tensorflow\\python\\saved_model\\function_deserialization.py\", line 284, in restored_function_body\n",
      "    \"Could not find matching concrete function to call loaded from the \"\n",
      "ValueError: Could not find matching concrete function to call loaded from the SavedModel. Got:\n",
      "  Positional arguments (3 total):\n",
      "    * Tensor(\"inputs:0\", shape=(1, 50, 336), dtype=float32)\n",
      "    * False\n",
      "    * None\n",
      "  Keyword arguments: {}\n",
      "\n",
      " Expected these arguments to match one of the following 4 option(s):\n",
      "\n",
      "Option 1:\n",
      "  Positional arguments (3 total):\n",
      "    * TensorSpec(shape=(None, None, 1280), dtype=tf.float32, name='gru_input')\n",
      "    * False\n",
      "    * None\n",
      "  Keyword arguments: {}\n",
      "\n",
      "Option 2:\n",
      "  Positional arguments (3 total):\n",
      "    * TensorSpec(shape=(None, None, 1280), dtype=tf.float32, name='inputs')\n",
      "    * False\n",
      "    * None\n",
      "  Keyword arguments: {}\n",
      "\n",
      "Option 3:\n",
      "  Positional arguments (3 total):\n",
      "    * TensorSpec(shape=(None, None, 1280), dtype=tf.float32, name='inputs')\n",
      "    * True\n",
      "    * None\n",
      "  Keyword arguments: {}\n",
      "\n",
      "Option 4:\n",
      "  Positional arguments (3 total):\n",
      "    * TensorSpec(shape=(None, None, 1280), dtype=tf.float32, name='gru_input')\n",
      "    * True\n",
      "    * None\n",
      "  Keyword arguments: {}\n",
      "\n"
     ]
    }
   ],
   "source": [
    "display(stopButton)\n",
    "thread = threading.Thread(target=view, args=(stopButton,))\n",
    "thread.start()"
   ]
  },
  {
   "cell_type": "code",
   "execution_count": null,
   "metadata": {},
   "outputs": [],
   "source": []
  }
 ],
 "metadata": {
  "kernelspec": {
   "display_name": "Python 3 (ipykernel)",
   "language": "python",
   "name": "python3"
  },
  "language_info": {
   "codemirror_mode": {
    "name": "ipython",
    "version": 3
   },
   "file_extension": ".py",
   "mimetype": "text/x-python",
   "name": "python",
   "nbconvert_exporter": "python",
   "pygments_lexer": "ipython3",
   "version": "3.7.11"
  }
 },
 "nbformat": 4,
 "nbformat_minor": 1
}