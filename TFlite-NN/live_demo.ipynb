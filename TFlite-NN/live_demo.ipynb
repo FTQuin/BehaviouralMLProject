{
 "cells": [
  {
   "cell_type": "markdown",
   "metadata": {
    "collapsed": true,
    "pycharm": {
     "name": "#%% md\n"
    }
   },
   "source": [
    "# Behaviour Estimation"
   ]
  },
  {
   "cell_type": "markdown",
   "metadata": {
    "pycharm": {
     "name": "#%% md\n"
    }
   },
   "source": [
    "## Import Libraries"
   ]
  },
  {
   "cell_type": "code",
   "execution_count": 1,
   "metadata": {
    "pycharm": {
     "name": "#%%\n"
    }
   },
   "outputs": [],
   "source": [
    "import train_network as tn\n",
    "import frame_feature_extractor as ffe\n",
    "import signal\n",
    "import tensorflow as tf\n",
    "\n",
    "from collections import deque\n",
    "import cv2\n",
    "import matplotlib as plt\n",
    "import numpy as np\n",
    "from IPython.display import display, Image\n",
    "import ipywidgets as widgets\n",
    "import threading"
   ]
  },
  {
   "cell_type": "markdown",
   "metadata": {
    "pycharm": {
     "name": "#%% md\n"
    }
   },
   "source": [
    "Get Model"
   ]
  },
  {
   "cell_type": "code",
   "execution_count": 2,
   "metadata": {
    "pycharm": {
     "name": "#%%\n"
    }
   },
   "outputs": [],
   "source": [
    "model = tn.get_trained_sequence_model(filepath='models/jump_skate_20frame_10epochs')"
   ]
  },
  {
   "cell_type": "code",
   "execution_count": 6,
   "metadata": {},
   "outputs": [],
   "source": [
    "# Set Hyperparameters\n",
    "SEQ_LEN = 20\n",
    "THRESHOLD = .5"
   ]
  },
  {
   "cell_type": "markdown",
   "metadata": {
    "pycharm": {
     "name": "#%% md\n"
    }
   },
   "source": [
    "Start Camera"
   ]
  },
  {
   "cell_type": "code",
   "execution_count": 5,
   "metadata": {
    "pycharm": {
     "name": "#%%\n"
    }
   },
   "outputs": [
    {
     "data": {
      "application/vnd.jupyter.widget-view+json": {
       "model_id": "3017e86ff44547cfb125f558fa543e5f",
       "version_major": 2,
       "version_minor": 0
      },
      "text/plain": [
       "ToggleButton(value=False, button_style='danger', description='Stop', icon='square', tooltip='Description')"
      ]
     },
     "metadata": {},
     "output_type": "display_data"
    },
    {
     "data": {
      "text/plain": [
       "None"
      ]
     },
     "metadata": {},
     "output_type": "display_data"
    }
   ],
   "source": [
    "# Stop button\n",
    "# ================\n",
    "stopButton = widgets.ToggleButton(\n",
    "    value=False,\n",
    "    description='Stop',\n",
    "    disabled=False,\n",
    "    button_style='danger', # 'success', 'info', 'warning', 'danger' or ''\n",
    "    tooltip='Description',\n",
    "    icon='square' # (FontAwesome names without the `fa-` prefix)\n",
    ")\n",
    "\n",
    "\n",
    "# Display function\n",
    "# ================\n",
    "def view(button):\n",
    "    cap = cv2.VideoCapture(0)\n",
    "    display_handle=display(None, display_id=True)\n",
    "    i = 0\n",
    "    frame_queue = deque(maxlen=20)\n",
    "    \n",
    "    font                   = cv2.FONT_HERSHEY_SIMPLEX\n",
    "    fontScale              = .5\n",
    "    fontColor              = (255,255,255)\n",
    "    thickness              = 1\n",
    "    lineType               = 2\n",
    "\n",
    "    while True:\n",
    "        _, frame = cap.read()\n",
    "        height, width, channels = frame.shape\n",
    "        \n",
    "        frame_features = ffe.get_features_from_image(frame)\n",
    "        frame_queue.append(tf.keras.layers.Flatten()(frame_features))\n",
    "        if len(frame_queue)<SEQ_LEN:\n",
    "            continue\n",
    "        x = tf.convert_to_tensor(list(frame_queue))\n",
    "        x = tf.transpose(x, perm=[1, 0, 2])\n",
    "        probabilities = model.predict(x)[0]\n",
    "        \n",
    "        for p in range(2):\n",
    "            for f in frame_features[0][p]:\n",
    "                if f[2] > THRESHOLD:\n",
    "                    frame = cv2.circle(frame, (int(f[1]*width), int(f[0]*height)), radius=2, color=(0, (0 if p<1 else 255), 255), thickness=-1)\n",
    "        \n",
    "        for p, l in zip(probabilites, label_names):\n",
    "            cv2.putText(frame, f'{l}: {p*100:.2f}%', \n",
    "                (10, 20), font, fontScale, fontColor, thickness, lineType)\n",
    "            \n",
    "            \n",
    "        _, frame = cv2.imencode('.jpeg', frame)\n",
    "\n",
    "        display_handle.update(Image(data=frame.tobytes()))\n",
    "        if stopButton.value:\n",
    "            cap.release()\n",
    "            display_handle.update(None)\n",
    "            break\n",
    "\n",
    "\n",
    "# Run\n",
    "# ================\n",
    "display(stopButton)\n",
    "thread = threading.Thread(target=view, args=(stopButton,))\n",
    "thread.start()"
   ]
  },
  {
   "cell_type": "code",
   "execution_count": null,
   "metadata": {},
   "outputs": [],
   "source": []
  }
 ],
 "metadata": {
  "kernelspec": {
   "display_name": "PyCharm (BehaviouralMLProject)",
   "language": "python",
   "name": "pycharm-2dc199d8"
  },
  "language_info": {
   "codemirror_mode": {
    "name": "ipython",
    "version": 3
   },
   "file_extension": ".py",
   "mimetype": "text/x-python",
   "name": "python",
   "nbconvert_exporter": "python",
   "pygments_lexer": "ipython3",
   "version": "3.7.11"
  },
  "pycharm": {
   "stem_cell": {
    "cell_type": "raw",
    "metadata": {
     "collapsed": false
    },
    "source": [
     "%matplotlib notebook\n"
    ]
   }
  }
 },
 "nbformat": 4,
 "nbformat_minor": 1
}